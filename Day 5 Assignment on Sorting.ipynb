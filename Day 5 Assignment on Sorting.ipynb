{
 "cells": [
  {
   "cell_type": "markdown",
   "metadata": {},
   "source": [
    "# DAY 5 ASSIGNMENT\n"
   ]
  },
  {
   "cell_type": "markdown",
   "metadata": {},
   "source": [
    "# Problem 1-Bubble Sort"
   ]
  },
  {
   "cell_type": "code",
   "execution_count": 3,
   "metadata": {},
   "outputs": [
    {
     "name": "stdout",
     "output_type": "stream",
     "text": [
      "Enter space sepreated integers:--55 22 5 32 11 2\n",
      "After Sorting:--\n",
      "[2, 5, 11, 22, 32, 55]\n"
     ]
    }
   ],
   "source": [
    "def bubble_sort(a):\n",
    "    for i in range(0,len(l)-1):\n",
    "        for j in range(0,len(l)-1-i):\n",
    "            if a[j]>a[j+1]:\n",
    "                temp=a[j]\n",
    "                a[j]=a[j+1]\n",
    "                a[j+1]=temp\n",
    "    return a\n",
    "\n",
    "l=[int(i) for i in input(\"Enter space sepreated integers:--\").split()]\n",
    "l=bubble_sort(l)\n",
    "print(\"After Sorting:--\")\n",
    "print(l)\n"
   ]
  },
  {
   "cell_type": "markdown",
   "metadata": {},
   "source": [
    "# Problem 2-Selection Sort"
   ]
  },
  {
   "cell_type": "code",
   "execution_count": 4,
   "metadata": {},
   "outputs": [
    {
     "name": "stdout",
     "output_type": "stream",
     "text": [
      "Enter space sepreated integers:--33 1 12 76 53 14\n",
      "After Sorting:--\n",
      "[1, 12, 14, 33, 53, 76]\n"
     ]
    }
   ],
   "source": [
    "def selection_sort(a):\n",
    "    for i in range(0,len(a)-1):\n",
    "        pos=i\n",
    "        for j in range(i+1,len(a)):\n",
    "            if a[pos]>a[j]:\n",
    "                pos=j\n",
    "        temp=a[pos]\n",
    "        a[pos]=a[i]\n",
    "        a[i]=temp\n",
    "    return a\n",
    "\n",
    "\n",
    "l=[int(i) for i in input(\"Enter space sepreated integers:--\").split()]\n",
    "l=selection_sort(l)\n",
    "print(\"After Sorting:--\")\n",
    "print(l)\n"
   ]
  },
  {
   "cell_type": "markdown",
   "metadata": {},
   "source": [
    "# Problem 3-Insertion Sort"
   ]
  },
  {
   "cell_type": "code",
   "execution_count": 19,
   "metadata": {},
   "outputs": [
    {
     "name": "stdout",
     "output_type": "stream",
     "text": [
      "Enter space sepreated integers:--33 2 11 55 3 3\n",
      "After Sorting:--\n",
      "[2, 3, 3, 11, 33, 55]\n"
     ]
    }
   ],
   "source": [
    "def insertion_sort(a):\n",
    "    for i in range(1,len(a)):\n",
    "        key=a[i]\n",
    "        j=i-1\n",
    "        while j>=0 and a[j]>key:\n",
    "            a[j+1]=a[j]\n",
    "            j=j-1\n",
    "        a[j+1]=key\n",
    "    return a\n",
    "\n",
    "l=[int(i) for i in input(\"Enter space sepreated integers:--\").split()]\n",
    "l=insertion_sort(l)\n",
    "print(\"After Sorting:--\")\n",
    "print(l)\n"
   ]
  },
  {
   "cell_type": "code",
   "execution_count": null,
   "metadata": {},
   "outputs": [],
   "source": []
  }
 ],
 "metadata": {
  "kernelspec": {
   "display_name": "Python 3",
   "language": "python",
   "name": "python3"
  },
  "language_info": {
   "codemirror_mode": {
    "name": "ipython",
    "version": 3
   },
   "file_extension": ".py",
   "mimetype": "text/x-python",
   "name": "python",
   "nbconvert_exporter": "python",
   "pygments_lexer": "ipython3",
   "version": "3.7.7"
  }
 },
 "nbformat": 4,
 "nbformat_minor": 4
}
